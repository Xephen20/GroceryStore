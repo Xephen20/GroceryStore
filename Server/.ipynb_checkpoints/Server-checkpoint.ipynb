{
 "cells": [
  {
   "cell_type": "code",
   "execution_count": 5,
   "id": "32d7f609-b8e5-4138-8374-f60fb967f4a3",
   "metadata": {},
   "outputs": [
    {
     "name": "stdout",
     "output_type": "stream",
     "text": [
      "[*] Listening as 0.0.0.0:3000\n",
      "[+] ('127.0.0.1', 61702) is connected.\n"
     ]
    },
    {
     "name": "stderr",
     "output_type": "stream",
     "text": [
      "Receiving store.db: 0.00B [00:00, ?B/s]"
     ]
    }
   ],
   "source": [
    "import socket\n",
    "import tqdm\n",
    "import os\n",
    "# device's IP address\n",
    "SERVER_HOST = \"0.0.0.0\"\n",
    "SERVER_PORT = 3000\n",
    "# receive 4096 bytes each time\n",
    "BUFFER_SIZE = 4096\n",
    "SEPARATOR = \"<SEPARATOR>\"\n",
    "\n",
    "# create the server socket\n",
    "# TCP socket\n",
    "s = socket.socket()\n",
    "\n",
    "# bind the socket to our local address\n",
    "s.bind((SERVER_HOST, SERVER_PORT))\n",
    "\n",
    "# enabling our server to accept connections\n",
    "# 5 here is the number of unaccepted connections that\n",
    "# the system will allow before refusing new connections\n",
    "s.listen(5)\n",
    "print(f\"[*] Listening as {SERVER_HOST}:{SERVER_PORT}\")\n",
    "\n",
    "# accept connection if there is any\n",
    "client_socket, address = s.accept() \n",
    "# if below code is executed, that means the sender is connected\n",
    "print(f\"[+] {address} is connected.\")\n",
    "\n",
    "# receive the file infos\n",
    "# receive using client socket, not server socket\n",
    "received = client_socket.recv(BUFFER_SIZE).decode()\n",
    "filename, filesize = received.split(SEPARATOR)\n",
    "# remove absolute path if there is\n",
    "filename = os.path.basename(filename)\n",
    "# convert to integer\n",
    "filesize = int(filesize)\n",
    "\n",
    "# start receiving the file from the socket\n",
    "# and writing to the file stream\n",
    "progress = tqdm.tqdm(range(filesize), f\"Receiving {filename}\", unit=\"B\", unit_scale=True, unit_divisor=1024)\n",
    "with open(filename, \"wb\") as f:\n",
    "    while True:\n",
    "        # read 1024 bytes from the socket (receive)\n",
    "        bytes_read = client_socket.recv(BUFFER_SIZE)\n",
    "        if not bytes_read:    \n",
    "            # nothing is received\n",
    "            # file transmitting is done\n",
    "            break\n",
    "        # write to the file the bytes we just received\n",
    "        f.write(bytes_read)\n",
    "        # update the progress bar\n",
    "        progress.update(len(bytes_read))\n",
    "\n",
    "# close the client socket\n",
    "client_socket.close()\n",
    "# close the server socket\n",
    "s.close()"
   ]
  },
  {
   "cell_type": "code",
   "execution_count": null,
   "id": "57d419dd-7b70-42e6-a9f7-1db9ce6d4b7d",
   "metadata": {},
   "outputs": [],
   "source": []
  }
 ],
 "metadata": {
  "kernelspec": {
   "display_name": "Python 3 (ipykernel)",
   "language": "python",
   "name": "python3"
  },
  "language_info": {
   "codemirror_mode": {
    "name": "ipython",
    "version": 3
   },
   "file_extension": ".py",
   "mimetype": "text/x-python",
   "name": "python",
   "nbconvert_exporter": "python",
   "pygments_lexer": "ipython3",
   "version": "3.9.12"
  }
 },
 "nbformat": 4,
 "nbformat_minor": 5
}
